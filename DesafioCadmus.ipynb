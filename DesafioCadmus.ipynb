{
 "cells": [
  {
   "cell_type": "code",
   "execution_count": null,
   "metadata": {},
   "outputs": [],
   "source": [
    "pip install google-api-python-client\n"
   ]
  },
  {
   "cell_type": "code",
   "execution_count": null,
   "metadata": {},
   "outputs": [],
   "source": [
    "pip install beautifulsoup4\n"
   ]
  },
  {
   "cell_type": "code",
   "execution_count": 46,
   "metadata": {},
   "outputs": [
    {
     "ename": "OSError",
     "evalue": "[Errno 22] Invalid argument: 'https://charts.youtube.com/charts/TopSongs/br/20190104-20190110?hl=pt'",
     "output_type": "error",
     "traceback": [
      "\u001b[1;31m---------------------------------------------------------------------------\u001b[0m",
      "\u001b[1;31mOSError\u001b[0m                                   Traceback (most recent call last)",
      "Cell \u001b[1;32mIn[46], line 58\u001b[0m\n\u001b[0;32m     56\u001b[0m start_date \u001b[39m=\u001b[39m \u001b[39m'\u001b[39m\u001b[39m20190104\u001b[39m\u001b[39m'\u001b[39m\n\u001b[0;32m     57\u001b[0m end_date \u001b[39m=\u001b[39m \u001b[39m'\u001b[39m\u001b[39m20230602\u001b[39m\u001b[39m'\u001b[39m\n\u001b[1;32m---> 58\u001b[0m tracks_data \u001b[39m=\u001b[39m get_youtube_charts_data(start_date, end_date)\n\u001b[0;32m     60\u001b[0m \u001b[39m# Exibe as informações das faixas\u001b[39;00m\n\u001b[0;32m     61\u001b[0m \u001b[39mfor\u001b[39;00m week_data \u001b[39min\u001b[39;00m tracks_data:\n",
      "Cell \u001b[1;32mIn[46], line 27\u001b[0m, in \u001b[0;36mget_youtube_charts_data\u001b[1;34m(start_date, end_date)\u001b[0m\n\u001b[0;32m     24\u001b[0m soup \u001b[39m=\u001b[39m BeautifulSoup(response\u001b[39m.\u001b[39mcontent, \u001b[39m'\u001b[39m\u001b[39mhtml.parser\u001b[39m\u001b[39m'\u001b[39m)\n\u001b[0;32m     25\u001b[0m tracks_data \u001b[39m=\u001b[39m []\n\u001b[1;32m---> 27\u001b[0m \u001b[39mwith\u001b[39;00m \u001b[39mopen\u001b[39;49m(url) \u001b[39mas\u001b[39;00m fp:\n\u001b[0;32m     28\u001b[0m     data \u001b[39m=\u001b[39m fp\u001b[39m.\u001b[39mread()\n\u001b[0;32m     29\u001b[0m diagnose(data)\n",
      "File \u001b[1;32m~\\AppData\\Roaming\\Python\\Python311\\site-packages\\IPython\\core\\interactiveshell.py:282\u001b[0m, in \u001b[0;36m_modified_open\u001b[1;34m(file, *args, **kwargs)\u001b[0m\n\u001b[0;32m    275\u001b[0m \u001b[39mif\u001b[39;00m file \u001b[39min\u001b[39;00m {\u001b[39m0\u001b[39m, \u001b[39m1\u001b[39m, \u001b[39m2\u001b[39m}:\n\u001b[0;32m    276\u001b[0m     \u001b[39mraise\u001b[39;00m \u001b[39mValueError\u001b[39;00m(\n\u001b[0;32m    277\u001b[0m         \u001b[39mf\u001b[39m\u001b[39m\"\u001b[39m\u001b[39mIPython won\u001b[39m\u001b[39m'\u001b[39m\u001b[39mt let you open fd=\u001b[39m\u001b[39m{\u001b[39;00mfile\u001b[39m}\u001b[39;00m\u001b[39m by default \u001b[39m\u001b[39m\"\u001b[39m\n\u001b[0;32m    278\u001b[0m         \u001b[39m\"\u001b[39m\u001b[39mas it is likely to crash IPython. If you know what you are doing, \u001b[39m\u001b[39m\"\u001b[39m\n\u001b[0;32m    279\u001b[0m         \u001b[39m\"\u001b[39m\u001b[39myou can use builtins\u001b[39m\u001b[39m'\u001b[39m\u001b[39m open.\u001b[39m\u001b[39m\"\u001b[39m\n\u001b[0;32m    280\u001b[0m     )\n\u001b[1;32m--> 282\u001b[0m \u001b[39mreturn\u001b[39;00m io_open(file, \u001b[39m*\u001b[39;49margs, \u001b[39m*\u001b[39;49m\u001b[39m*\u001b[39;49mkwargs)\n",
      "\u001b[1;31mOSError\u001b[0m: [Errno 22] Invalid argument: 'https://charts.youtube.com/charts/TopSongs/br/20190104-20190110?hl=pt'"
     ]
    }
   ],
   "source": [
    "import requests\n",
    "from bs4 import BeautifulSoup\n",
    "from bs4.diagnose import diagnose\n",
    "from datetime import datetime, timedelta\n",
    "\n",
    "def get_youtube_charts_data(start_date='20190104', end_date='20230602'):\n",
    "    base_url = 'https://charts.youtube.com/charts/TopSongs/br'\n",
    "    date_format = '%Y%m%d'\n",
    "    current_date = datetime.strptime(start_date, date_format)\n",
    "    end_date = datetime.strptime(end_date, date_format)\n",
    "\n",
    "    all_tracks_data = []\n",
    "\n",
    "    while current_date <= end_date:\n",
    "        # Formata a data para a URL (por exemplo, 2019-01-04)\n",
    "        formatted_date = current_date.strftime(date_format)\n",
    "        week_date = (current_date + timedelta(days=6)).strftime(date_format)\n",
    "\n",
    "        # Faz a solicitação HTTP\n",
    "        url = f'{base_url}/{formatted_date}-{week_date}?hl=pt'\n",
    "        response = requests.get(url)\n",
    "\n",
    "        if response.status_code == 200:\n",
    "            soup = BeautifulSoup(response.content, 'html.parser')\n",
    "            tracks_data = []\n",
    "\n",
    "            # Encontra todas as entradas da lista de músicas\n",
    "            track_entries = soup.css.select('.chart-table')\n",
    "            track_entries2 = soup.css.select('.chart-table-row')\n",
    "            track_entries4 = soup.find_all(\"track-video-id\")\n",
    "            track_entries5 = soup.find_all('track-id')\n",
    "            track_entries6 = soup.find_all(class_=\"ytmc-chart-table\")\n",
    "            track_entries3 = soup.css.select('.ytmc-chart-table')\n",
    "\n",
    "            for entry in track_entries:\n",
    "                title = entry.select_one('.ytmc-ellipsis-text').string\n",
    "                artist = entry.select_one('.ytmc-artists-list').text.strip()\n",
    "                tracks_data.append({'title': title, 'artist': artist})\n",
    "\n",
    "            # Adiciona os dados das faixas da semana atual na lista geral\n",
    "            all_tracks_data.append({formatted_date: tracks_data})\n",
    "\n",
    "        else:\n",
    "            print(f'Erro ao acessar a página {url}: Status Code {response.status_code}')\n",
    "\n",
    "        # Avança para a próxima semana\n",
    "        current_date += timedelta(days=7)\n",
    "\n",
    "    return all_tracks_data\n",
    "\n",
    "# Coleta os dados das top 100 faixas semanais de 04/01/2019 a 02/06/2023\n",
    "start_date = '20190104'\n",
    "end_date = '20230602'\n",
    "tracks_data = get_youtube_charts_data(start_date, end_date)\n",
    "\n",
    "# Exibe as informações das faixas\n",
    "for week_data in tracks_data:\n",
    "    for date, tracks in week_data.items():\n",
    "        print(f\"Semana de {date}:\")\n",
    "        for i, track in enumerate(tracks, start=1):\n",
    "            print(f\"{i}. {track['title']} - {track['artist']}\")\n",
    "        print(\"\\n\")\n",
    "\n",
    "    \n",
    "    "
   ]
  }
 ],
 "metadata": {
  "kernelspec": {
   "display_name": "Python 3",
   "language": "python",
   "name": "python3"
  },
  "language_info": {
   "codemirror_mode": {
    "name": "ipython",
    "version": 3
   },
   "file_extension": ".py",
   "mimetype": "text/x-python",
   "name": "python",
   "nbconvert_exporter": "python",
   "pygments_lexer": "ipython3",
   "version": "3.11.2"
  },
  "orig_nbformat": 4
 },
 "nbformat": 4,
 "nbformat_minor": 2
}
